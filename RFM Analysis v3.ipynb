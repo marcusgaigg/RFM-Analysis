{
 "cells": [
  {
   "cell_type": "markdown",
   "metadata": {},
   "source": [
    "# RFM Analysis - Data Transformations\n",
    "\n",
    "Overview\n",
    "• Recency measures the number of days since the last purchase, so lower values indicate more recent activity.\n",
    "• Frequency is the total number of purchases; higher values signal more engaged customers.\n",
    "• Monetary sums all spending; higher values suggest higher-value customers."
   ]
  },
  {
   "cell_type": "code",
   "execution_count": null,
   "metadata": {},
   "outputs": [],
   "source": [
    "import pandas as pd\n",
    "import numpy as np\n",
    "import seaborn as sns\n",
    "import datetime as dt\n",
    "import matplotlib.pyplot as plt\n",
    "\n",
    "df = pd.read_csv(r'C:\\Users\\mgaig\\OneDrive\\Data - portfolio\\Jupyter Lab\\RFM Analysis\\Online Retail.csv', encoding='ISO-8859-1')\n",
    "\n",
    "df.head()"
   ]
  },
  {
   "cell_type": "markdown",
   "metadata": {},
   "source": [
    "# Clean and aggregate the data"
   ]
  },
  {
   "cell_type": "code",
   "execution_count": null,
   "metadata": {},
   "outputs": [],
   "source": [
    "df.dropna(subset=['CustomerID'], inplace=True)\n",
    "\n",
    "df['InvoiceDate'] = pd.to_datetime(df['InvoiceDate'])\n",
    "\n",
    "\n",
    "df['Amount'] = df['Quantity'] * df['UnitPrice']\n",
    "\n",
    "rfm_df = df.groupby('CustomerID').agg(\n",
    "    CustomerID=('CustomerID', 'first'),\n",
    "    LastPurchaseDate=('InvoiceDate', 'max'),\n",
    "    Frequency=('InvoiceNo', 'nunique'),\n",
    "    Monetary=('Amount', 'mean')\n",
    ").reset_index(drop=True)\n",
    "\n",
    "print(rfm_df.head().to_markdown(index=False, numalign=\"left\", stralign=\"left\"))\n",
    "\n",
    "# Print the column names and their data types\n",
    "print(rfm_df.info())"
   ]
  },
  {
   "cell_type": "markdown",
   "metadata": {},
   "source": [
    "# Create RFM Data Model"
   ]
  },
  {
   "cell_type": "code",
   "execution_count": null,
   "metadata": {},
   "outputs": [],
   "source": [
    "# Calculate Recency\n",
    "rfm_df['Recency'] = (rfm_df['LastPurchaseDate'].max() + pd.to_timedelta('1D')) - rfm_df['LastPurchaseDate']\n",
    "rfm_df['Recency'] = rfm_df['Recency'].dt.days\n",
    "\n",
    "quantiles = rfm_df[['Recency', 'Frequency', 'Monetary']].quantile([0.25, 0.5, 0.75])\n",
    "\n",
    "# Assign RecencyScore\n",
    "rfm_df['RecencyScore'] = pd.cut(rfm_df['Recency'], bins=[-1, quantiles['Recency'][0.25], quantiles['Recency'][0.5], quantiles['Recency'][0.75], float('inf')], labels=[4, 3, 2, 1], include_lowest=True)\n",
    "\n",
    "# Assign FrequencyScore and MonetaryScore\n",
    "rfm_df['FrequencyScore'] = pd.cut(rfm_df['Frequency'], bins=[-1, quantiles['Frequency'][0.25], quantiles['Frequency'][0.5], quantiles['Frequency'][0.75], float('inf')], labels=[1, 2, 3, 4], include_lowest=True)\n",
    "rfm_df['MonetaryScore'] = pd.cut(rfm_df['Monetary'], bins=[-1, quantiles['Monetary'][0.25], quantiles['Monetary'][0.5], quantiles['Monetary'][0.75], float('inf')], labels=[1, 2, 3, 4], include_lowest=True)\n",
    "\n",
    "# Concatenate scores\n",
    "rfm_df['RFM_Score'] = rfm_df['RecencyScore'].astype(str) + rfm_df['FrequencyScore'].astype(str) + rfm_df['MonetaryScore'].astype(str)\n",
    "\n",
    "# Display the first 5 rows\n",
    "print(rfm_df.head().to_markdown(index=False, numalign=\"left\", stralign=\"left\"))\n",
    "\n",
    "# Print the column names and their data types\n",
    "print(rfm_df.info())"
   ]
  },
  {
   "cell_type": "markdown",
   "metadata": {},
   "source": [
    "# Segment customers using RFM values"
   ]
  },
  {
   "cell_type": "code",
   "execution_count": null,
   "metadata": {},
   "outputs": [],
   "source": [
    "def rfm_level(df):\n",
    "    r = df['RecencyScore']\n",
    "    f = df['FrequencyScore']\n",
    "    m = df['MonetaryScore']\n",
    "    rfm = df['RFM_Score']\n",
    "    \n",
    "    # 1. Champions\n",
    "    if r == 4 and f == 4 and m == 4:\n",
    "        return 'Champions'\n",
    "    \n",
    "    # 2. Loyal Customers\n",
    "    elif f == 4 and m >= 3:\n",
    "        return 'Loyal Customers'\n",
    "    \n",
    "    # 3. Potential Loyalist\n",
    "    elif r == 4 and f >= 2 and m >= 1:\n",
    "        return 'Potential Loyalist'\n",
    "    \n",
    "    elif r >= 3 and f >= 3 or r >= 3 and m >= 3:\n",
    "        return 'Promising'\n",
    "    \n",
    "    # 4. Recent Customers\n",
    "    elif r >= 3 and f >= 1 and m >= 1:\n",
    "        return 'Recent Customers'\n",
    "    \n",
    "    # 8. At Risk\n",
    "    elif r <= 2 and f >= 1 and m == 4:\n",
    "        return 'At Risk Big Spenders'\n",
    "    \n",
    "# 8. Can't lose them\n",
    "    elif r <= 2 and f >= 1 and m >= 3:\n",
    "        return 'At Risk Moderate Spenders'\n",
    "\n",
    "\n",
    "    # 6. Customers Needing Attention\n",
    "    elif r >= 2 and f >= 2 and m >= 1:\n",
    "        return 'Needs Attention'\n",
    "    \n",
    "# 10. Hibernating\n",
    "    elif r == 1 and f <= 2 or r == 1 and m <= 2:\n",
    "        return 'Hibernating'\n",
    "\n",
    "    # 11. Lost\n",
    "    else:\n",
    "        return 'About to Sleep'\n",
    "\n",
    "  \n",
    "\n",
    "\n",
    "\n",
    "# Apply the function to assign RFM level\n",
    "rfm_df['RFM_Level'] = rfm_df.apply(rfm_level, axis=1)\n",
    "\n",
    "# Display the first 5 rows\n",
    "print(rfm_df.head().to_markdown(index=False, numalign=\"left\", stralign=\"left\"))\n",
    "\n",
    "# Print the column names and their data types\n",
    "print(rfm_df.info())\n"
   ]
  },
  {
   "cell_type": "code",
   "execution_count": null,
   "metadata": {},
   "outputs": [],
   "source": [
    "# Calculate the number of customers in each RFM level\n",
    "rfm_level_counts = rfm_df['RFM_Level'].value_counts().reset_index()\n",
    "rfm_level_counts.columns = ['RFM_Level', 'count']\n",
    "\n",
    "# Display the result\n",
    "print(rfm_level_counts.to_markdown(index=False, numalign=\"left\", stralign=\"left\"))\n",
    "\n",
    "# Display total counts\n",
    "total_counts = rfm_level_counts['count'].sum()\n",
    "print(f\"Total number of customers: {total_counts}\")"
   ]
  },
  {
   "cell_type": "code",
   "execution_count": null,
   "metadata": {},
   "outputs": [],
   "source": [
    "import altair as alt\n",
    "\n",
    "# Create a bar chart of number of customers in each `RFM_Level`\n",
    "chart = alt.Chart(rfm_df).mark_bar().encode(\n",
    "    x=alt.X('RFM_Level'),\n",
    "    y=alt.Y('count()', title='Number of Customers'),\n",
    "    color=alt.Color('RFM_Level'),\n",
    "    tooltip=['RFM_Level', alt.Tooltip('count()', title='Number of Customers')]\n",
    ").properties(\n",
    "    title='Number of Customers per RFM Level'\n",
    ").interactive()\n",
    "\n",
    "# Save the chart\n",
    "chart.save('rfm_level_bar_chart.json')\n",
    "\n",
    "# Display the chart\n",
    "chart.display()"
   ]
  },
  {
   "cell_type": "code",
   "execution_count": null,
   "metadata": {},
   "outputs": [],
   "source": [
    "# Filter lost customers\n",
    "lost_customers = rfm_df[rfm_df['RFM_Level'] == 'Lost']\n",
    "\n",
    "# Group by RFM_Score and count the number of lost customers in each group\n",
    "lost_rfm_grouped = lost_customers.groupby('RFM_Score').size().reset_index(name='count')\n",
    "\n",
    "# Display the result\n",
    "print(lost_rfm_grouped.to_markdown(index=False, numalign=\"left\", stralign=\"left\"))"
   ]
  },
  {
   "cell_type": "code",
   "execution_count": 38,
   "metadata": {},
   "outputs": [],
   "source": [
    "output_path = r'C:\\Users\\mgaig\\OneDrive\\Data - portfolio\\Jupyter Lab\\RFM Analysis\\output\\RFM_Analysis.csv'\n",
    "rfm_df.to_csv(output_path, index=False)"
   ]
  },
  {
   "cell_type": "markdown",
   "metadata": {},
   "source": [
    "\n",
    "from azure.storage.blob import BlobServiceClient\n",
    "import pandas as pd\n",
    "import io\n",
    "import numpy as np \n",
    "from dotenv import load_dotenv\n",
    "import os\n",
    "\n",
    "\n",
    "storage_account_name = os.getenv(\"AZURE_STORAGE_ACCOUNT_NAME\")\n",
    "storage_account_key = os.getenv(\"AZURE_STORAGE_ACCOUNT_KEY\")\n",
    "container_name = \"dataillustratedcontainer\"\n",
    "\n",
    "\n",
    "blob_service_client = BlobServiceClient(\n",
    "    account_url=f\"https://{storage_account_name}.blob.core.windows.net\",\n",
    "    credential=storage_account_key\n",
    ")\n",
    "\n",
    "\n",
    "csv_data = rfm_df.to_csv(index=False)\n",
    "\n",
    "\n",
    "blob_client_transformed = blob_service_client.get_blob_client(container=container_name, blob=\"RFM_analysis.csv\")\n",
    "\n",
    "\n",
    "blob_client_transformed.upload_blob(csv_data, overwrite=True)\n",
    "\n",
    "print(f\"DataFrame successfully uploaded to {container_name}/{\"RFM_analysis.csv\"}\")"
   ]
  },
  {
   "cell_type": "code",
   "execution_count": null,
   "metadata": {},
   "outputs": [],
   "source": [
    "# Merge the original dataframe with the RFM dataframe on 'CustomerID'\n",
    "df = df.merge(rfm_df[['CustomerID', 'RFM_Level']], on='CustomerID', how='left')\n",
    "\n",
    "# Display the first few rows to verify the merge\n",
    "print(df.head().to_markdown(index=False, numalign=\"left\", stralign=\"left\"))\n",
    "\n",
    "output_path = r'C:\\Users\\mgaig\\OneDrive\\Data - portfolio\\Jupyter Lab\\RFM Analysis\\output\\RFM_Analysis_all_sales.csv'\n",
    "df.to_csv(output_path, index=False)"
   ]
  }
 ],
 "metadata": {
  "kernelspec": {
   "display_name": "Python 3",
   "language": "python",
   "name": "python3"
  },
  "language_info": {
   "codemirror_mode": {
    "name": "ipython",
    "version": 3
   },
   "file_extension": ".py",
   "mimetype": "text/x-python",
   "name": "python",
   "nbconvert_exporter": "python",
   "pygments_lexer": "ipython3",
   "version": "3.12.4"
  }
 },
 "nbformat": 4,
 "nbformat_minor": 2
}
